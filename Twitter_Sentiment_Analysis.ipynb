{
  "nbformat": 4,
  "nbformat_minor": 0,
  "metadata": {
    "colab": {
      "provenance": []
    },
    "kernelspec": {
      "name": "python3",
      "display_name": "Python 3"
    },
    "language_info": {
      "name": "python"
    }
  },
  "cells": [
    {
      "cell_type": "code",
      "execution_count": 1,
      "metadata": {
        "colab": {
          "base_uri": "https://localhost:8080/",
          "height": 887
        },
        "id": "S3ObUS5BLpNu",
        "outputId": "8a49b210-433d-4bb7-bb3b-175481209fbb"
      },
      "outputs": [
        {
          "output_type": "stream",
          "name": "stderr",
          "text": [
            "[nltk_data] Downloading package twitter_samples to /root/nltk_data...\n",
            "[nltk_data]   Unzipping corpora/twitter_samples.zip.\n"
          ]
        },
        {
          "name": "stdout",
          "output_type": "stream",
          "text": [
            "\n",
            "Classifier Accuracy: 0.983\n",
            "\n",
            "Welcome to the Sentiment Analyzer!\n",
            "\n",
            "Enter a tweet (or type 'exit' to quit):\n",
            "\n",
            "User: Just got offered a job in a new city! Super excited for the opportunity, but also feeling nervous about leaving my friends and family behind. 🎉😬\n",
            "Sentiment Analysis Result: positive\n",
            "\n",
            "User: The salary is great, and I've always wanted to live in that city. It's a dream come true in many ways. 💰🏙️\n",
            "Sentiment Analysis Result: positive\n",
            "\n",
            "User: On the downside, I'll miss my current colleagues and the comfort of familiar surroundings. It's a bittersweet moment. 😔😕\n",
            "Sentiment Analysis Result: negative\n",
            "\n",
            "User:  But, I'm ready for a new adventure and to grow both personally and professionally. Change can be scary but also exhilarating! 💪😊\n",
            "Sentiment Analysis Result: positive\n",
            "\n",
            "User: Decisions, decisions... Feeling a mix of excitement and apprehension, but leaning towards accepting the offer. 🤔🎢\n",
            "Sentiment Analysis Result: neutral\n",
            "\n",
            "User: exit\n"
          ]
        },
        {
          "output_type": "display_data",
          "data": {
            "text/plain": [
              "<Figure size 600x400 with 1 Axes>"
            ],
            "image/png": "[encoded data removed]"
          },
          "metadata": {}
        }
      ],
      "source": [
        "import nltk\n",
        "from nltk.corpus import twitter_samples\n",
        "from nltk.tokenize import TweetTokenizer\n",
        "from nltk.classify import NaiveBayesClassifier\n",
        "from nltk.probability import FreqDist\n",
        "import matplotlib.pyplot as plt\n",
        "\n",
        "# Download the Twitter sample dataset\n",
        "nltk.download('twitter_samples')\n",
        "\n",
        "# Load positive, negative, and neutral tweets from the Twitter sample dataset\n",
        "positive_tweets = twitter_samples.strings('positive_tweets.json')\n",
        "negative_tweets = twitter_samples.strings('negative_tweets.json')\n",
        "neutral_tweets = twitter_samples.strings('tweets.20150430-223406.json')\n",
        "\n",
        "# Tokenize tweets using TweetTokenizer from NLTK\n",
        "tweet_tokenizer = TweetTokenizer(preserve_case=False, strip_handles=True, reduce_len=True)\n",
        "positive_tweet_tokens = [tweet_tokenizer.tokenize(tweet) for tweet in positive_tweets]\n",
        "negative_tweet_tokens = [tweet_tokenizer.tokenize(tweet) for tweet in negative_tweets]\n",
        "neutral_tweet_tokens = [tweet_tokenizer.tokenize(tweet) for tweet in neutral_tweets]\n",
        "\n",
        "# Define feature extractor function\n",
        "def build_freq_features(words):\n",
        "    \"\"\"\n",
        "    Build frequency dictionary of words\n",
        "    :param words: list of words\n",
        "    :return: dictionary with word frequencies\n",
        "    \"\"\"\n",
        "    word_freq = FreqDist(words)\n",
        "    return word_freq\n",
        "\n",
        "# Extract features from positive, negative, and neutral tweets\n",
        "positive_features = [(build_freq_features(tweet), 'Positive') for tweet in positive_tweet_tokens]\n",
        "negative_features = [(build_freq_features(tweet), 'Negative') for tweet in negative_tweet_tokens]\n",
        "neutral_features = [(build_freq_features(tweet), 'Neutral') for tweet in neutral_tweet_tokens]\n",
        "\n",
        "# Combine the datasets and shuffle\n",
        "all_features = positive_features + negative_features + neutral_features\n",
        "import random\n",
        "random.shuffle(all_features)\n",
        "\n",
        "# Split the dataset into training and testing sets\n",
        "split_ratio = 0.8\n",
        "split_index = int(len(all_features) * split_ratio)\n",
        "train_set = all_features[:split_index]\n",
        "test_set = all_features[split_index:]\n",
        "\n",
        "# Train Naive Bayes classifier\n",
        "classifier = NaiveBayesClassifier.train(train_set)\n",
        "\n",
        "# Evaluate classifier on test set\n",
        "accuracy = nltk.classify.util.accuracy(classifier, test_set)\n",
        "print(\"\\nClassifier Accuracy:\", accuracy)\n",
        "\n",
        "# Perform sentiment analysis on custom tweets provided by the user\n",
        "print(\"\\nWelcome to the Sentiment Analyzer!\\n\")\n",
        "print(\"Enter a tweet (or type 'exit' to quit):\")\n",
        "\n",
        "sentiment_mapping = {\n",
        "    'Positive': 'positive',\n",
        "    'Negative': 'negative',\n",
        "    'Neutral': 'neutral'\n",
        "}\n",
        "\n",
        "def analyze_sentiment(tweet):\n",
        "    \"\"\"\n",
        "    Analyze sentiment of a tweet\n",
        "    :param tweet: input tweet\n",
        "    :return: sentiment analysis result\n",
        "    \"\"\"\n",
        "    custom_tweet_tokens = tweet_tokenizer.tokenize(tweet)\n",
        "    custom_tweet_features = build_freq_features(custom_tweet_tokens)\n",
        "    sentiment = classifier.classify(custom_tweet_features)\n",
        "\n",
        "    return sentiment_mapping[sentiment]\n",
        "\n",
        "# Analyze custom tweets and visualize overall mood\n",
        "user_tweets = []\n",
        "while True:\n",
        "    custom_tweet = input(\"\\nUser: \")\n",
        "    if custom_tweet.lower() == 'exit':\n",
        "        break\n",
        "\n",
        "    sentiment = analyze_sentiment(custom_tweet)\n",
        "    print(\"Sentiment Analysis Result:\", sentiment)\n",
        "    user_tweets.append(sentiment)\n",
        "\n",
        "# Calculate overall mood\n",
        "positive_count = user_tweets.count('positive')\n",
        "negative_count = user_tweets.count('negative')\n",
        "neutral_count = user_tweets.count('neutral')\n",
        "total_tweets = len(user_tweets)\n",
        "\n",
        "positive_percentage = (positive_count / total_tweets) * 100\n",
        "negative_percentage = (negative_count / total_tweets) * 100\n",
        "neutral_percentage = (neutral_count / total_tweets) * 100\n",
        "\n",
        "# Visualize overall mood\n",
        "plt.figure(figsize=(6, 4))\n",
        "plt.bar(['Positive', 'Negative', 'Neutral'], [positive_percentage, negative_percentage, neutral_percentage], color=['green', 'red', 'gray'])\n",
        "plt.xlabel('Sentiment')\n",
        "plt.ylabel('Percentage')\n",
        "plt.title('Overall Mood')\n",
        "plt.show()\n"
      ]
    }
  ]
}